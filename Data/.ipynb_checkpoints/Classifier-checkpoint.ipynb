{
 "cells": [
  {
   "cell_type": "code",
   "execution_count": 1,
   "metadata": {},
   "outputs": [],
   "source": [
    "import pandas as pd\n",
    "from sklearn.linear_model import LogisticRegression\n",
    "from sklearn.neighbors import KNeighborsClassifier\n",
    "from sklearn.svm import SVC\n",
    "from sklearn.metrics import confusion_matrix\n",
    "from sklearn.metrics import accuracy_score\n",
    "from sklearn.naive_bayes import GaussianNB\n"
   ]
  },
  {
   "cell_type": "code",
   "execution_count": 2,
   "metadata": {},
   "outputs": [
    {
     "name": "stdout",
     "output_type": "stream",
     "text": [
      "(39774, 2898)\n",
      "       cuisine   00    1   10  100   12   14  145   15    2  ...  zatarains  \\\n",
      "0        greek  0.0  0.0  0.0  0.0  0.0  0.0  0.0  0.0  0.0  ...        0.0   \n",
      "1  southern_us  0.0  0.0  0.0  0.0  0.0  0.0  0.0  0.0  0.0  ...        0.0   \n",
      "2     filipino  0.0  0.0  0.0  0.0  0.0  0.0  0.0  0.0  0.0  ...        0.0   \n",
      "3       indian  0.0  0.0  0.0  0.0  0.0  0.0  0.0  0.0  0.0  ...        0.0   \n",
      "4       indian  0.0  0.0  0.0  0.0  0.0  0.0  0.0  0.0  0.0  ...        0.0   \n",
      "\n",
      "   zatarain’s  zero  zest  zesty  zinfandel  ziti  zucchini  épices  \\\n",
      "0         0.0   0.0   0.0    0.0        0.0   0.0       0.0     0.0   \n",
      "1         0.0   0.0   0.0    0.0        0.0   0.0       0.0     0.0   \n",
      "2         0.0   0.0   0.0    0.0        0.0   0.0       0.0     0.0   \n",
      "3         0.0   0.0   0.0    0.0        0.0   0.0       0.0     0.0   \n",
      "4         0.0   0.0   0.0    0.0        0.0   0.0       0.0     0.0   \n",
      "\n",
      "   Unnamed: 2897  \n",
      "0            NaN  \n",
      "1            NaN  \n",
      "2            NaN  \n",
      "3            NaN  \n",
      "4            NaN  \n",
      "\n",
      "[5 rows x 2898 columns]\n"
     ]
    }
   ],
   "source": [
    "data = pd.read_csv('Vectors.csv')\n",
    "print(data.shape)\n",
    "print(data.head())\n"
   ]
  },
  {
   "cell_type": "code",
   "execution_count": 3,
   "metadata": {},
   "outputs": [],
   "source": [
    "#columns = [c for c in data.columns if c not in ['cuisine']]\n",
    "#print(columns)"
   ]
  },
  {
   "cell_type": "code",
   "execution_count": 4,
   "metadata": {
    "scrolled": false
   },
   "outputs": [],
   "source": [
    "#fr = data.iloc[0]\n",
    "#print([f for f in fr])"
   ]
  },
  {
   "cell_type": "code",
   "execution_count": 5,
   "metadata": {},
   "outputs": [],
   "source": [
    "#data1 = pd.read_json('../data/train.json')\n",
    "#fr = data1.iloc[0]\n",
    "#print([f for f in fr])"
   ]
  },
  {
   "cell_type": "code",
   "execution_count": 6,
   "metadata": {},
   "outputs": [],
   "source": [
    "#print(data.iloc[1])"
   ]
  },
  {
   "cell_type": "code",
   "execution_count": null,
   "metadata": {
    "scrolled": true
   },
   "outputs": [
    {
     "name": "stderr",
     "output_type": "stream",
     "text": [
      "/home/noman/.local/lib/python3.7/site-packages/sklearn/linear_model/_logistic.py:940: ConvergenceWarning: lbfgs failed to converge (status=1):\n",
      "STOP: TOTAL NO. of ITERATIONS REACHED LIMIT.\n",
      "\n",
      "Increase the number of iterations (max_iter) or scale the data as shown in:\n",
      "    https://scikit-learn.org/stable/modules/preprocessing.html\n",
      "Please also refer to the documentation for alternative solver options:\n",
      "    https://scikit-learn.org/stable/modules/linear_model.html#logistic-regression\n",
      "  extra_warning_msg=_LOGISTIC_SOLVER_CONVERGENCE_MSG)\n"
     ]
    },
    {
     "name": "stdout",
     "output_type": "stream",
     "text": [
      "Logistic Regression\n",
      "0.7074795725958517\n",
      "K neighbors\n",
      "0.7071024512884978\n"
     ]
    }
   ],
   "source": [
    "\n",
    "data = data.loc[:, ~data.columns.str.contains('^Unnamed')]\n",
    "target = 'cuisine'\n",
    "columns = data.columns.tolist()\n",
    "columns = [c for c in columns if c not in ['cuisine']]\n",
    "# print(data.shape)\n",
    "\n",
    "train = data.sample(frac=0.8,random_state=1)\n",
    "test = data.loc[~data.index.isin(train.index)]\n",
    "\n",
    "\n",
    "LR = LogisticRegression()\n",
    "KNN = KNeighborsClassifier(n_neighbors=10)\n",
    "svm = SVC()\n",
    "\n",
    "LR.fit(train[columns],train[target])\n",
    "pred = LR.predict(test[columns])\n",
    "\n",
    "print(\"Logistic Regression\")\n",
    "print(accuracy_score(test[target],pred))\n",
    "\n",
    "KNN.fit(train[columns],train[target])\n",
    "pred = KNN.predict(test[columns])\n",
    "\n",
    "print(\"K neighbors\")\n",
    "print(accuracy_score(test[target],pred))\n",
    "\n",
    "svm.fit(train[columns],train[target])\n",
    "pred = svm.predict(test[columns])\n",
    "print(\"Support Vector Machine\")\n",
    "print(accuracy_score(test[target],pred))\n",
    "\n",
    "\n",
    "\n"
   ]
  },
  {
   "cell_type": "code",
   "execution_count": null,
   "metadata": {},
   "outputs": [],
   "source": [
    "gnb = GaussianNB()\n",
    "gnb.fit(train[columns],train[target])\n",
    "pred= gnb.predict(test[columns])\n",
    "print(\"GNB\")\n",
    "print(accuracy_score(test[target],pred))"
   ]
  },
  {
   "cell_type": "code",
   "execution_count": null,
   "metadata": {},
   "outputs": [],
   "source": []
  }
 ],
 "metadata": {
  "kernelspec": {
   "display_name": "Python 3",
   "language": "python",
   "name": "python3"
  },
  "language_info": {
   "codemirror_mode": {
    "name": "ipython",
    "version": 3
   },
   "file_extension": ".py",
   "mimetype": "text/x-python",
   "name": "python",
   "nbconvert_exporter": "python",
   "pygments_lexer": "ipython3",
   "version": "3.7.5"
  }
 },
 "nbformat": 4,
 "nbformat_minor": 4
}
