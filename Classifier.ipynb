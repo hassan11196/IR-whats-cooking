{
 "cells": [
  {
   "cell_type": "code",
   "execution_count": 1,
   "metadata": {},
   "outputs": [],
   "source": [
    "import pandas as pd\n",
    "from sklearn.linear_model import LogisticRegression\n",
    "from sklearn.neighbors import KNeighborsClassifier\n",
    "from sklearn.svm import SVC\n",
    "from sklearn.metrics import confusion_matrix\n",
    "from sklearn.metrics import accuracy_score\n",
    "from sklearn.naive_bayes import GaussianNB\n"
   ]
  },
  {
   "cell_type": "code",
   "execution_count": 9,
   "metadata": {},
   "outputs": [],
   "source": [
    "data = pd.read_csv('./Data/Vectors.csv')\n",
    "#print(data.shape)\n",
    "#print(data.head())\n"
   ]
  },
  {
   "cell_type": "code",
   "execution_count": 3,
   "metadata": {},
   "outputs": [],
   "source": [
    "#columns = [c for c in data.columns if c not in ['cuisine']]\n",
    "#print(columns)"
   ]
  },
  {
   "cell_type": "code",
   "execution_count": 4,
   "metadata": {
    "scrolled": false
   },
   "outputs": [],
   "source": [
    "#fr = data.iloc[0]\n",
    "#print([f for f in fr])"
   ]
  },
  {
   "cell_type": "code",
   "execution_count": 5,
   "metadata": {},
   "outputs": [],
   "source": [
    "#data1 = pd.read_json('../data/train.json')\n",
    "#fr = data1.iloc[0]\n",
    "#print([f for f in fr])"
   ]
  },
  {
   "cell_type": "code",
   "execution_count": 6,
   "metadata": {},
   "outputs": [],
   "source": [
    "#print(data.iloc[1])"
   ]
  },
  {
   "cell_type": "code",
   "execution_count": 10,
   "metadata": {
    "scrolled": true
   },
   "outputs": [
    {
     "name": "stdout",
     "output_type": "stream",
     "text": [
      "(39774, 2898)\n",
      "(39774, 2897)\n",
      "(39774, 1876)\n"
     ]
    }
   ],
   "source": [
    "print(data.shape)\n",
    "data = data.loc[:, ~data.columns.str.contains('^Unnamed')]\n",
    "target = 'cuisine'\n",
    "print(data.shape)\n",
    "data = data.loc[:, (data==0).mean() < .9999]\n",
    "columns = data.columns.tolist()\n",
    "columns = [c for c in columns if c not in ['cuisine']]\n",
    "print(data.shape)\n",
    "\n",
    "train = data.sample(frac=0.8,random_state=1)\n",
    "test = data.loc[~data.index.isin(train.index)]\n",
    "\n",
    "\n",
    "LR = LogisticRegression()\n",
    "KNN = KNeighborsClassifier(n_neighbors=10)\n",
    "#svm = SVC()\n",
    "\n",
    "#LR.fit(train[columns],train[target])\n",
    "#pred = LR.predict(test[columns])\n",
    "\n",
    "#print(\"\\nLogistic Regression\")\n",
    "#print(accuracy_score(test[target],pred))\n",
    "\n",
    "#KNN.fit(train[columns],train[target])\n",
    "#pred = KNN.predict(test[columns])\n",
    "\n",
    "#print(\"\\nK neighbors\")\n",
    "#print(accuracy_score(test[target],pred))\n",
    "\n",
    "#svm.fit(train[columns],train[target])\n",
    "#pred = svm.predict(test[columns])\n",
    "#print(\"Support Vector Machine\")\n",
    "#print(accuracy_score(test[target],pred))\n",
    "\n",
    "\n",
    "\n"
   ]
  },
  {
   "cell_type": "code",
   "execution_count": 8,
   "metadata": {},
   "outputs": [],
   "source": [
    "#gnb = GaussianNB()\n",
    "#gnb.fit(train[columns],train[target])\n",
    "#pred= gnb.predict(test[columns])\n",
    "#print(\"GNB\")\n",
    "#print(accuracy_score(test[target],pred))"
   ]
  },
  {
   "cell_type": "code",
   "execution_count": 11,
   "metadata": {},
   "outputs": [
    {
     "name": "stdout",
     "output_type": "stream",
     "text": [
      "Random Forest\n",
      "0.7431803896920176\n"
     ]
    }
   ],
   "source": [
    "\n",
    "from sklearn.ensemble import RandomForestClassifier\n",
    "from sklearn.datasets import make_classification\n",
    "clf = RandomForestClassifier(random_state=0)\n",
    "clf.fit(train[columns], train[target])\n",
    "pred = clf.predict(test[columns])\n",
    "print(\"Random Forest\")\n",
    "print(accuracy_score(test[target],pred))"
   ]
  },
  {
   "cell_type": "code",
   "execution_count": 13,
   "metadata": {},
   "outputs": [
    {
     "name": "stdout",
     "output_type": "stream",
     "text": [
      "Decision Tree\n",
      "0.6194846008799497\n"
     ]
    }
   ],
   "source": []
  },
  {
   "cell_type": "code",
   "execution_count": null,
   "metadata": {},
   "outputs": [],
   "source": []
  }
 ],
 "metadata": {
  "kernelspec": {
   "display_name": "Python 3",
   "language": "python",
   "name": "python3"
  },
  "language_info": {
   "codemirror_mode": {
    "name": "ipython",
    "version": 3
   },
   "file_extension": ".py",
   "mimetype": "text/x-python",
   "name": "python",
   "nbconvert_exporter": "python",
   "pygments_lexer": "ipython3",
   "version": "3.8.2"
  }
 },
 "nbformat": 4,
 "nbformat_minor": 4
}
